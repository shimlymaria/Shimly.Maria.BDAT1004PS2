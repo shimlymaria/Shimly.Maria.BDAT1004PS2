{
 "cells": [
  {
   "cell_type": "markdown",
   "id": "38d2254f-cb2b-497b-a22e-aa4189d56b04",
   "metadata": {},
   "source": [
    "# Question 1"
   ]
  },
  {
   "cell_type": "code",
   "execution_count": 68,
   "id": "3737a9e9-3e4a-4deb-807c-1f28f94dad41",
   "metadata": {
    "tags": []
   },
   "outputs": [],
   "source": [
    "a = 0\n",
    "def b():\n",
    "    global a\n",
    "    a = c(a)\n",
    "\n",
    "def c(a):\n",
    "    return a + 2"
   ]
  },
  {
   "cell_type": "code",
   "execution_count": 69,
   "id": "3ff8246f-815f-4399-9f40-98ba364f2dc7",
   "metadata": {
    "tags": []
   },
   "outputs": [],
   "source": [
    "b()"
   ]
  },
  {
   "cell_type": "code",
   "execution_count": 70,
   "id": "8346b414-ddd6-4222-80d4-cb552c4d48e0",
   "metadata": {
    "tags": []
   },
   "outputs": [],
   "source": [
    "b()"
   ]
  },
  {
   "cell_type": "code",
   "execution_count": 71,
   "id": "551fa878-82fc-4874-9805-4a3c40eeb9b3",
   "metadata": {
    "tags": []
   },
   "outputs": [],
   "source": [
    "b()"
   ]
  },
  {
   "cell_type": "code",
   "execution_count": 72,
   "id": "80ccb6dc-8a1d-4619-b5de-590d5391d832",
   "metadata": {
    "tags": []
   },
   "outputs": [
    {
     "data": {
      "text/plain": [
       "6"
      ]
     },
     "execution_count": 72,
     "metadata": {},
     "output_type": "execute_result"
    }
   ],
   "source": [
    "a"
   ]
  },
  {
   "cell_type": "markdown",
   "id": "c32bfe3d-1bd4-4f47-ab19-53a6c8e100c2",
   "metadata": {},
   "source": [
    "When the function b() is called for the first time, it creates a global variable called 'a', and assigns the value returned from the function c() to it . Thus, in the statement a = c(a), the function 'c' is called with parameter value a = 0. c() returns the value 0+2 (i.e., 2), and assigns this value to a. Hence after calling the function the first time, the value of a equals 2.\n",
    "\n",
    "Now, when the function 'b' is called again, the value of a is 2. By following the aforementioned steps again, the value of 'a' is updated to 2 once more. Thus, the value of 'a' after the second call of the function equals 4.\n",
    "\n",
    "Repeating these steps again, the value of 'a' after the third call becomes 4+2 (i.e., 6).\n",
    "\n",
    "The final value of 'a' is then 6, as is seen in the output."
   ]
  },
  {
   "cell_type": "markdown",
   "id": "c1615812-26c4-4fc8-8d76-2f81739e8582",
   "metadata": {},
   "source": [
    "# Question 2"
   ]
  },
  {
   "cell_type": "code",
   "execution_count": 73,
   "id": "c015ef39-3071-4d97-b8f7-eae74e7961e3",
   "metadata": {
    "tags": []
   },
   "outputs": [],
   "source": [
    "def file_length(file_name):\n",
    "    try:\n",
    "        file = open(file_name)  # Attempt to open the specified file\n",
    "        contents = file.read()  # Read the contents of the file\n",
    "        file.close()  # Close the file\n",
    "        print(len(contents))  # Print the length of the contents\n",
    "    except FileNotFoundError:\n",
    "        print(f\"File {file_name} not found\")  # Handle the exception if the file is not found"
   ]
  },
  {
   "cell_type": "code",
   "execution_count": 74,
   "id": "c5d1cc9c-fa0d-4efe-9c03-1a94136b7b16",
   "metadata": {
    "tags": []
   },
   "outputs": [
    {
     "name": "stdout",
     "output_type": "stream",
     "text": [
      "123\n"
     ]
    }
   ],
   "source": [
    "file_length('midterm.py')"
   ]
  },
  {
   "cell_type": "code",
   "execution_count": 75,
   "id": "f4a6c783-4133-4ef3-8072-c7a1354ea9bd",
   "metadata": {
    "tags": []
   },
   "outputs": [
    {
     "name": "stdout",
     "output_type": "stream",
     "text": [
      "File idterm.py not found\n"
     ]
    }
   ],
   "source": [
    "file_length(\"idterm.py\")"
   ]
  },
  {
   "cell_type": "markdown",
   "id": "ef6fae9f-7a52-4b56-a913-5f320844e302",
   "metadata": {},
   "source": [
    "# Question 3"
   ]
  },
  {
   "cell_type": "code",
   "execution_count": 76,
   "id": "81c15414-8d58-4052-bb06-2a73a3c2df52",
   "metadata": {
    "tags": []
   },
   "outputs": [],
   "source": [
    "class Marsupial:\n",
    "    \n",
    "    def __init__(self):\n",
    "        self.contents = []  # Initialize an empty list to store the contents of the marsupial's pouch\n",
    "    \n",
    "    def put_in_pouch(self, item: str):\n",
    "        self.contents.append(item)  # Add the specified item to the marsupial's pouch\n",
    "    \n",
    "    def pouch_contents(self):\n",
    "        print(self.contents)  # Print the contents of the marsupial's pouch\n"
   ]
  },
  {
   "cell_type": "code",
   "execution_count": 77,
   "id": "be67c9a7-1fc7-46ec-9498-055454fab41e",
   "metadata": {
    "tags": []
   },
   "outputs": [],
   "source": [
    "m = Marsupial() "
   ]
  },
  {
   "cell_type": "code",
   "execution_count": 78,
   "id": "9d604d05-bd97-4e5d-ba60-4475fe48bf7d",
   "metadata": {
    "tags": []
   },
   "outputs": [
    {
     "name": "stdout",
     "output_type": "stream",
     "text": [
      "['doll', 'firetruck', 'kitten']\n"
     ]
    }
   ],
   "source": [
    "# Adding the following items to the pouch\n",
    "m.put_in_pouch('doll')\n",
    "m.put_in_pouch('firetruck')\n",
    "m.put_in_pouch('kitten')\n",
    "m.pouch_contents() # Print the contents of the pouch"
   ]
  },
  {
   "cell_type": "code",
   "execution_count": 79,
   "id": "d9fe76e9-55c1-476f-82d9-5b6b5ff07202",
   "metadata": {
    "tags": []
   },
   "outputs": [],
   "source": [
    "class Kangaroo(Marsupial):\n",
    "    def __init__(self, x, y):\n",
    "        Marsupial.__init__(self)  # Call the constructor of the Marsupial class to initialize the contents list\n",
    "        self.x = x  # Initialize the x-coordinate of the Kangaroo\n",
    "        self.y = y  # Initialize the y-coordinate of the Kangaroo\n",
    "    \n",
    "    def jump(self, x, y):\n",
    "        self.x += x  # Update the x-coordinate of the Kangaroo by adding the specified value\n",
    "        self.y += y  # Update the y-coordinate of the Kangaroo by adding the specified value\n",
    "    \n",
    "    def __str__(self):\n",
    "        return f\"I am a Kangaroo located at coordinates ({self.x}, {self.y})\"  # Return a string representation of the Kangaroo's coordinates\n"
   ]
  },
  {
   "cell_type": "code",
   "execution_count": 80,
   "id": "eeb064c6-947e-4ed8-a690-d36c65405124",
   "metadata": {
    "tags": []
   },
   "outputs": [
    {
     "name": "stdout",
     "output_type": "stream",
     "text": [
      "I am a Kangaroo located at coordinates (0, 0)\n"
     ]
    }
   ],
   "source": [
    "k = Kangaroo(0,0)\n",
    "print(k)"
   ]
  },
  {
   "cell_type": "code",
   "execution_count": 81,
   "id": "12282bbb-3e7c-4d41-92c8-288350d8195b",
   "metadata": {
    "tags": []
   },
   "outputs": [
    {
     "name": "stdout",
     "output_type": "stream",
     "text": [
      "['doll', 'firetruck', 'kitten']\n"
     ]
    }
   ],
   "source": [
    "k.put_in_pouch('doll')\n",
    "k.put_in_pouch('firetruck')\n",
    "k.put_in_pouch('kitten')\n",
    "k.pouch_contents()"
   ]
  },
  {
   "cell_type": "code",
   "execution_count": 82,
   "id": "c7c5f4e6-617d-4289-81e4-93d13144a493",
   "metadata": {
    "tags": []
   },
   "outputs": [
    {
     "name": "stdout",
     "output_type": "stream",
     "text": [
      "I am a Kangaroo located at coordinates (3, 0)\n"
     ]
    }
   ],
   "source": [
    "k.jump(1,0)\n",
    "k.jump(1,0)\n",
    "k.jump(1,0)\n",
    "print(k)"
   ]
  },
  {
   "cell_type": "markdown",
   "id": "b5ab8612-7910-4b67-a232-ed6499a3942c",
   "metadata": {},
   "source": [
    "# Question 4"
   ]
  },
  {
   "cell_type": "code",
   "execution_count": 83,
   "id": "3d8c07a6-6cb2-4d0a-8b25-b1583f9ae4be",
   "metadata": {
    "tags": []
   },
   "outputs": [],
   "source": [
    "def collatz(x):\n",
    "    # Check if the input is a positive integer\n",
    "    if x <= 0 or type(x) != int:\n",
    "        print(\"Enter a positive number\")\n",
    "        return\n",
    "    \n",
    "    print(int(x))  # Print the current value of x\n",
    "    \n",
    "    if x == 1:\n",
    "        return  # Base case: if x is 1, stop the recursion\n",
    "    elif x % 2 == 0:\n",
    "        x /= 2  # If x is even, divide it by 2\n",
    "    else:\n",
    "        x = (3 * x) + 1  # If x is odd, multiply it by 3 and add 1\n",
    "    \n",
    "    collatz(int(x))  # Recursive call to collatz with the updated value of x\n"
   ]
  },
  {
   "cell_type": "code",
   "execution_count": 84,
   "id": "ef0cf968-8aac-45f4-9bf1-917493b50336",
   "metadata": {
    "tags": []
   },
   "outputs": [
    {
     "name": "stdout",
     "output_type": "stream",
     "text": [
      "10\n",
      "5\n",
      "16\n",
      "8\n",
      "4\n",
      "2\n",
      "1\n"
     ]
    }
   ],
   "source": [
    "collatz(10)"
   ]
  },
  {
   "cell_type": "markdown",
   "id": "a1104364-162a-4fbc-a703-29e736da3a5d",
   "metadata": {},
   "source": [
    "# Question 5"
   ]
  },
  {
   "cell_type": "code",
   "execution_count": 85,
   "id": "65cd0f60-d2cc-4bea-81cd-23f026fa2866",
   "metadata": {
    "tags": []
   },
   "outputs": [],
   "source": [
    "def binary(n, binary_string=''):\n",
    "    # Check if the input is a non-negative integer\n",
    "    if n < 0 or type(n) != int:\n",
    "        print(\"Enter a non-negative integer \")\n",
    "        return\n",
    "    \n",
    "    # If n is 0 or 1, print the binary string and return\n",
    "    if n <= 1:\n",
    "        binary_string = str(n % 2) + binary_string\n",
    "        print(binary_string)\n",
    "        return\n",
    "    else:\n",
    "        # Recursive case: append the remainder of n divided by 2 to the binary string\n",
    "        binary_string = str(n % 2) + binary_string\n",
    "        binary(n // 2, binary_string)\n"
   ]
  },
  {
   "cell_type": "code",
   "execution_count": 86,
   "id": "d4ed6f18-5ea5-498c-9a2b-3fdb178ea9d3",
   "metadata": {
    "tags": []
   },
   "outputs": [
    {
     "name": "stdout",
     "output_type": "stream",
     "text": [
      "0\n"
     ]
    }
   ],
   "source": [
    "binary(0)"
   ]
  },
  {
   "cell_type": "code",
   "execution_count": 87,
   "id": "af0ed59f-8128-4db7-991c-691ee033ab05",
   "metadata": {
    "tags": []
   },
   "outputs": [
    {
     "name": "stdout",
     "output_type": "stream",
     "text": [
      "1\n"
     ]
    }
   ],
   "source": [
    "binary(1)"
   ]
  },
  {
   "cell_type": "code",
   "execution_count": 88,
   "id": "27121f16-cd49-437a-b11a-261145d2c575",
   "metadata": {
    "tags": []
   },
   "outputs": [
    {
     "name": "stdout",
     "output_type": "stream",
     "text": [
      "11\n"
     ]
    }
   ],
   "source": [
    "binary(3)"
   ]
  },
  {
   "cell_type": "code",
   "execution_count": 89,
   "id": "59ea4417-8ad4-4e00-83f6-8a25b6c7b55f",
   "metadata": {
    "tags": []
   },
   "outputs": [
    {
     "name": "stdout",
     "output_type": "stream",
     "text": [
      "1001\n"
     ]
    }
   ],
   "source": [
    "binary(9)"
   ]
  },
  {
   "cell_type": "markdown",
   "id": "4f137381-b886-4412-b31a-145f45d59b3f",
   "metadata": {},
   "source": [
    "# Question 6"
   ]
  },
  {
   "cell_type": "code",
   "execution_count": 90,
   "id": "070c8afa-e98b-459c-9783-ba5c492a3945",
   "metadata": {
    "tags": []
   },
   "outputs": [],
   "source": [
    "from html.parser import HTMLParser\n",
    "\n",
    "# Custom HTML parser class for extracting headings\n",
    "class HeadingParser(HTMLParser):\n",
    "    def __init__(self):\n",
    "        HTMLParser.__init__(self)\n",
    "        self.heading_tags = ['h1', 'h2', 'h3', 'h4', 'h5', 'h6']  # List of heading tags\n",
    "        self.in_heading = False  # Flag to indicate if currently inside a heading\n",
    "        self.tab_count = 0  # Indentation level for printing headings\n",
    "    \n",
    "    def handle_starttag(self, tag, attrs):\n",
    "        if tag in self.heading_tags:  # Check if the tag is a heading tag\n",
    "            self.in_heading = True  # Set the flag to indicate we are inside a heading\n",
    "            self.tab_count = int(tag[-1]) - 1  # Determine the indentation level based on the tag's number\n",
    "    \n",
    "    def handle_endtag(self, tag):\n",
    "        if tag in self.heading_tags:  # Check if the tag is a heading tag\n",
    "            self.in_heading = False  # Reset the flag to indicate we are outside a heading\n",
    "            self.tab_count = 0  # Reset the indentation level\n",
    "    \n",
    "    def handle_data(self, data):\n",
    "        if self.in_heading:  # Check if currently inside a heading\n",
    "            print('\\t' * self.tab_count, data)  # Print the heading with appropriate indentation\n"
   ]
  },
  {
   "cell_type": "code",
   "execution_count": 91,
   "id": "a5c3f151-fe87-476f-8c2d-afbbcc791b4d",
   "metadata": {
    "tags": []
   },
   "outputs": [],
   "source": [
    "infile = open('w3c.html','r')\n",
    "content = infile.read()\n",
    "infile.close()"
   ]
  },
  {
   "cell_type": "code",
   "execution_count": 92,
   "id": "b5a4a27e-884a-4eb2-8100-44e3385eb7c0",
   "metadata": {
    "tags": []
   },
   "outputs": [],
   "source": [
    "hp = HeadingParser()"
   ]
  },
  {
   "cell_type": "code",
   "execution_count": 93,
   "id": "61095907-8640-4503-977a-fb21baf30cf3",
   "metadata": {
    "tags": []
   },
   "outputs": [
    {
     "name": "stdout",
     "output_type": "stream",
     "text": [
      " W3C Mission\n",
      "\t Principles\n"
     ]
    }
   ],
   "source": [
    "hp.feed(content)"
   ]
  },
  {
   "cell_type": "markdown",
   "id": "36912627-dc0a-4f85-a0fc-075e805de76f",
   "metadata": {},
   "source": [
    "# Question 7"
   ]
  },
  {
   "cell_type": "code",
   "execution_count": 94,
   "id": "e8a44d4f-a364-4bbd-844d-af27eba76615",
   "metadata": {
    "tags": []
   },
   "outputs": [],
   "source": [
    "from urllib.request import urlopen\n",
    "from urllib.parse import urljoin\n",
    "from html.parser import HTMLParser\n",
    "\n",
    "# Custom HTML parser class\n",
    "class MyHTMLParser(HTMLParser):\n",
    "    def __init__(self, url):\n",
    "        HTMLParser.__init__(self)\n",
    "        self.links = []  # Stores extracted links\n",
    "        self.url = url  # Current URL being parsed\n",
    "    \n",
    "    def handle_starttag(self, tag, attrs):\n",
    "        if tag == 'a':  # Check if the tag is an anchor tag\n",
    "            for attr in attrs:\n",
    "                if attr[0] == 'href':  # Check if the attribute is 'href'\n",
    "                    absolute = urljoin(self.url, attr[1].strip())  # Convert relative URL to absolute URL\n",
    "                    if absolute[:4] == 'http':  # Check if the link starts with 'http'\n",
    "                        self.links.append(absolute)  # Add the link to the list of extracted links\n",
    "    \n",
    "    def get_links(self):\n",
    "        return self.links\n",
    "\n",
    "# Main web directory crawling function\n",
    "def webdir(url: str, depth: int, indent: int, print_url=True):\n",
    "    if print_url:\n",
    "        print('\\t'* indent, url)   # The webdir function scans the web directory to print links at different depths indentation\n",
    "    \n",
    "    if depth <= 0:\n",
    "        return\n",
    "    \n",
    "    response = urlopen(url)  # Retrieve the web page\n",
    "    \n",
    "    if response.code != 200:  # Check if the response code is not 200 (OK)\n",
    "        print(f\"Error while retrieving page {response.geturl()}, Status Code: {response.code}\")\n",
    "        return\n",
    "    \n",
    "    parser = MyHTMLParser(url)  # Create an instance of the custom HTML parser\n",
    "    content = response.read().decode('utf-8', errors='ignore')  # Decode the content using UTF-8 encoding\n",
    "    parser.feed(content)  # Parse the HTML content\n",
    "    links = parser.get_links()  # Get the extracted links from the parser\n",
    "    \n",
    "    for link in links:\n",
    "        print('\\t' * (indent+1), link)  # Print the link with appropriate indentation\n",
    "        webdir(link, depth - 1, indent + 1, False)  # Recursively crawl the extracted links with reduced depth and increased indentation\n"
   ]
  },
  {
   "cell_type": "code",
   "execution_count": 95,
   "id": "0976cae0-a9ed-4be8-8073-5fb1b9205710",
   "metadata": {
    "tags": []
   },
   "outputs": [
    {
     "name": "stdout",
     "output_type": "stream",
     "text": [
      " http://reed.cs.depaul.edu/lperkovic/csc242/lecture1/\n",
      "\t http://reed.cs.depaul.edu/lperkovic/csc242/lecture1/Ch7.pptx\n",
      "\t http://reed.cs.depaul.edu/lperkovic/csc242/lecture1/caseStudy6/blackjack.py\n",
      "\t http://reed.cs.depaul.edu/lperkovic/csc242/lecture1/emoticon.py\n",
      "\t http://reed.cs.depaul.edu/lperkovic/csc242/lecture1/chapter7.zip\n"
     ]
    }
   ],
   "source": [
    "url2 = 'http://reed.cs.depaul.edu/lperkovic/csc242/lecture1/'\n",
    "webdir(url2, 2,0)"
   ]
  },
  {
   "cell_type": "markdown",
   "id": "34fd8489-973a-42f2-b846-17bfc61be03b",
   "metadata": {},
   "source": [
    "# Question 8"
   ]
  },
  {
   "cell_type": "markdown",
   "id": "74d7d229-341a-4d79-a8d7-b90c8258b37b",
   "metadata": {},
   "source": [
    "a) All the temperature data.  \n",
    "Solution: SELECT temperature from city_temp;  \n",
    "\n",
    "b) All the cities, but without repetition.  \n",
    "Solution: SELECT DISTINCT city FROM city_temp\n",
    "\n",
    "c) All the records for India.  \n",
    "Solution: SELECT * FROM city_temp WHERE country = \"India\"\n",
    "\n",
    "d) All the Fall records.  \n",
    "Solution: SELECT * FROM city_temp WHERE season = \"Fall\"\n",
    "\n",
    "e) The city, country, and season for which the average rainfall is between 200\n",
    "and 400 millimeters.  \n",
    "Solution: SELECT city, country, season FROM city_temp WHERE rainfall BETWEEN 200.0 AND 300.0  \n",
    "\n",
    "f) The city and country for which the average Fall temperature is above 20\n",
    "degrees, in increasing temperature order.    \n",
    "Solution: SELECT city , country from city_temp GROUP BY city HAVING AVG(temperature) > 20 ORDER BY temperature ASC\n",
    "\n",
    "g) The total annual rainfall for Cairo.  \n",
    "Solution: SELECT SUM(rainfall) as total_rainfall_in_cairo from city_temp WHERE city = 'Cairo'\n",
    "\n",
    "h) The total rainfall for each season.  \n",
    "Solution: SELECT SUM(rainfall) as total_rainfall, country FROM city_temp GROUP BY country"
   ]
  },
  {
   "cell_type": "markdown",
   "id": "a81d818c-f140-4861-9695-17962ad20e94",
   "metadata": {},
   "source": [
    "# Question 9"
   ]
  },
  {
   "cell_type": "code",
   "execution_count": 96,
   "id": "b5d73835-ab49-4894-be2f-db32c2304915",
   "metadata": {
    "tags": []
   },
   "outputs": [],
   "source": [
    "words = ['The', 'quick', 'brown', 'fox', 'jumps', 'over','the', 'lazy', 'dog']"
   ]
  },
  {
   "cell_type": "code",
   "execution_count": 97,
   "id": "24508f91-32ce-42a2-b277-50e5eb9b3808",
   "metadata": {
    "tags": []
   },
   "outputs": [
    {
     "data": {
      "text/plain": [
       "['THE', 'QUICK', 'BROWN', 'FOX', 'JUMPS', 'OVER', 'THE', 'LAZY', 'DOG']"
      ]
     },
     "execution_count": 97,
     "metadata": {},
     "output_type": "execute_result"
    }
   ],
   "source": [
    "solution_a = [word.upper() for word in words]\n",
    "solution_a"
   ]
  },
  {
   "cell_type": "code",
   "execution_count": 98,
   "id": "0f276660-5720-4983-bda9-391daeeaa6db",
   "metadata": {
    "tags": []
   },
   "outputs": [
    {
     "data": {
      "text/plain": [
       "['the', 'quick', 'brown', 'fox', 'jumps', 'over', 'the', 'lazy', 'dog']"
      ]
     },
     "execution_count": 98,
     "metadata": {},
     "output_type": "execute_result"
    }
   ],
   "source": [
    "solution_b = [word.lower() for word in words]\n",
    "solution_b"
   ]
  },
  {
   "cell_type": "code",
   "execution_count": 99,
   "id": "87c87607-54ec-45f2-b697-4ed113561aa7",
   "metadata": {
    "tags": []
   },
   "outputs": [
    {
     "data": {
      "text/plain": [
       "[3, 5, 5, 3, 5, 4, 3, 4, 3]"
      ]
     },
     "execution_count": 99,
     "metadata": {},
     "output_type": "execute_result"
    }
   ],
   "source": [
    "solution_c = [len(word) for word in words]\n",
    "solution_c"
   ]
  },
  {
   "cell_type": "code",
   "execution_count": 100,
   "id": "6417c290-3d43-45ff-9dc6-f29eda91a349",
   "metadata": {
    "tags": []
   },
   "outputs": [
    {
     "data": {
      "text/plain": [
       "[['THE', 'the', 3],\n",
       " ['QUICK', 'quick', 5],\n",
       " ['BROWN', 'brown', 5],\n",
       " ['FOX', 'fox', 3],\n",
       " ['JUMPS', 'jumps', 5],\n",
       " ['OVER', 'over', 4],\n",
       " ['THE', 'the', 3],\n",
       " ['LAZY', 'lazy', 4],\n",
       " ['DOG', 'dog', 3]]"
      ]
     },
     "execution_count": 100,
     "metadata": {},
     "output_type": "execute_result"
    }
   ],
   "source": [
    "solution_d = [[word.upper(), word.lower(), len(word)] for word in words]\n",
    "solution_d"
   ]
  },
  {
   "cell_type": "code",
   "execution_count": 101,
   "id": "95e3f31a-5130-45b2-acef-0a503c489259",
   "metadata": {
    "tags": []
   },
   "outputs": [
    {
     "data": {
      "text/plain": [
       "['quick', 'brown', 'jumps', 'over', 'lazy']"
      ]
     },
     "execution_count": 101,
     "metadata": {},
     "output_type": "execute_result"
    }
   ],
   "source": [
    "solution_e = [word for word in words if len(word) >=4]\n",
    "solution_e"
   ]
  },
  {
   "cell_type": "code",
   "execution_count": null,
   "id": "7dbc30f7-e9a6-49b0-8521-26c13486290c",
   "metadata": {},
   "outputs": [],
   "source": []
  },
  {
   "cell_type": "code",
   "execution_count": null,
   "id": "e84ff66f",
   "metadata": {},
   "outputs": [],
   "source": []
  }
 ],
 "metadata": {
  "kernelspec": {
   "display_name": "Python 3 (ipykernel)",
   "language": "python",
   "name": "python3"
  },
  "language_info": {
   "codemirror_mode": {
    "name": "ipython",
    "version": 3
   },
   "file_extension": ".py",
   "mimetype": "text/x-python",
   "name": "python",
   "nbconvert_exporter": "python",
   "pygments_lexer": "ipython3",
   "version": "3.10.9"
  }
 },
 "nbformat": 4,
 "nbformat_minor": 5
}
